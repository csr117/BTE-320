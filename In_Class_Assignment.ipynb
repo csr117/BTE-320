{
  "nbformat": 4,
  "nbformat_minor": 0,
  "metadata": {
    "colab": {
      "provenance": [],
      "authorship_tag": "ABX9TyNBDHairxEODfla7n+Jr0cl",
      "include_colab_link": true
    },
    "kernelspec": {
      "name": "python3",
      "display_name": "Python 3"
    },
    "language_info": {
      "name": "python"
    }
  },
  "cells": [
    {
      "cell_type": "markdown",
      "metadata": {
        "id": "view-in-github",
        "colab_type": "text"
      },
      "source": [
        "<a href=\"https://colab.research.google.com/github/csr117/BTE-320/blob/main/In_Class_Assignment.ipynb\" target=\"_parent\"><img src=\"https://colab.research.google.com/assets/colab-badge.svg\" alt=\"Open In Colab\"/></a>"
      ]
    },
    {
      "cell_type": "code",
      "execution_count": null,
      "metadata": {
        "colab": {
          "base_uri": "https://localhost:8080/"
        },
        "id": "jtcBNmO3Cmy-",
        "outputId": "c5e965c2-a3d3-4dcd-a42e-c5857fb7794e"
      },
      "outputs": [
        {
          "output_type": "stream",
          "name": "stdout",
          "text": [
            "244.92000000000002\n"
          ]
        }
      ],
      "source": [
        "h = 10\n",
        "pi= 3.14\n",
        "r = 3\n",
        "\n",
        "Area= (2 * pi * (r**2)) + (2 * pi * r * h)\n",
        "\n",
        "print(Area)"
      ]
    },
    {
      "cell_type": "code",
      "source": [
        "import random\n",
        "choice = input(\"Do you want to play a game? Enter Yes or No \")\n",
        "\n",
        "while choice == \"Yes\":\n",
        "  p1 = input(\"Rock, Paper, Scissors? \")\n",
        "  p2 = random.choice(['Rock', 'Paper', 'Scissors'])\n",
        "  print(f'Computer.chose {p2}.')\n",
        "\n",
        "  if p1 == p2:\n",
        "    print(\"Draw\")\n",
        "  elif p1 == \"Rock\" and p2 == \"Scissors\":\n",
        "    print(\"User wins!\")\n",
        "  elif p1 == \"Paper\" and p2 == \"Rock\":\n",
        "    print(\"User wins!\")\n",
        "  elif p1 == \"Scissors\" and p2 == \"Paper\":\n",
        "    print(\"User wins!\")\n",
        "  else:\n",
        "    print(\"Computer wins!\")\n",
        "  choice = input(\"Do you want to play again? \")\n",
        "  print('Ok bye!')\n"
      ],
      "metadata": {
        "id": "kvs7SRFhEacz",
        "colab": {
          "base_uri": "https://localhost:8080/"
        },
        "outputId": "257a4841-65c4-487f-f8b4-ae9db8e793cd"
      },
      "execution_count": null,
      "outputs": [
        {
          "output_type": "stream",
          "name": "stdout",
          "text": [
            "Do you want to play a game? Enter Yes or No Yes\n",
            "Rock, Paper, Scissors? Rock\n",
            "Computer.chose Paper.\n",
            "Computer wins!\n",
            "Do you want to play again? Rock\n",
            "Ok bye!\n"
          ]
        }
      ]
    },
    {
      "cell_type": "code",
      "source": [
        "n1 = float(input('Enter a number: '))\n",
        "n2 = float(input('Enter a second number: '))\n",
        "symbol = input('Choose operator (+, -, *, /, **): ')\n",
        "\n",
        "if symbol == '+':\n",
        "  print(n1+n2)\n",
        "elif symbol == '-':\n",
        "  Pint(n1-n2)\n",
        "elif symbol == '*':\n",
        "  print(n1*n2)\n",
        "elif symbol == '/':\n",
        "  print(n1/n2)\n",
        "else:2\n",
        "  print(n1**n2)"
      ],
      "metadata": {
        "colab": {
          "base_uri": "https://localhost:8080/"
        },
        "id": "hQUHCOQuXaZj",
        "outputId": "6b4114de-f9d7-4942-b42f-b0dadd29095e"
      },
      "execution_count": null,
      "outputs": [
        {
          "output_type": "stream",
          "name": "stdout",
          "text": [
            "Enter a number: 1\n",
            "Enter a second number: 1\n",
            "Choose operator (+, -, *, /, **): 2\n",
            "1.0\n"
          ]
        }
      ]
    },
    {
      "cell_type": "code",
      "source": [
        "fRate = 5\n",
        "hRate = 2.5\n",
        "\n",
        "for hrs in range(1, 9, 1): #Despite it being 8 hrs in parking you need to go above the number\n",
        "  charge = fRate + hRate*hrs\n",
        "  if charge<10:\n",
        "    charge=10.0\n",
        "  if charge>20:\n",
        "    charge=20.0\n",
        "  print(hrs, charge)"
      ],
      "metadata": {
        "colab": {
          "base_uri": "https://localhost:8080/"
        },
        "id": "QIRNJ7oGZ6DB",
        "outputId": "10782d28-5557-48d3-a317-a843f4ecf206"
      },
      "execution_count": 7,
      "outputs": [
        {
          "output_type": "stream",
          "name": "stdout",
          "text": [
            "1 10.0\n",
            "2 10.0\n",
            "3 12.5\n",
            "4 15.0\n",
            "5 17.5\n",
            "6 20.0\n",
            "7 20.0\n",
            "8 20.0\n"
          ]
        }
      ]
    },
    {
      "cell_type": "code",
      "source": [
        "for ad in range(0,201,25):\n",
        "  additional = 2*round(ad**.5,1)\n",
        "  profit = (20+additional)*10-200-ad\n",
        "  print(ad, profit)"
      ],
      "metadata": {
        "colab": {
          "base_uri": "https://localhost:8080/"
        },
        "id": "5vf1Z81Rkvdx",
        "outputId": "d8680c93-2f7c-473f-ba59-ffe33babcfca"
      },
      "execution_count": 13,
      "outputs": [
        {
          "output_type": "stream",
          "name": "stdout",
          "text": [
            "0 0.0\n",
            "25 75.0\n",
            "50 92.0\n",
            "75 99.0\n",
            "100 100.0\n",
            "125 99.0\n",
            "150 94.0\n",
            "175 89.0\n",
            "200 82.0\n"
          ]
        }
      ]
    }
  ]
}