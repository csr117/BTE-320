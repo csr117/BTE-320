{
  "nbformat": 4,
  "nbformat_minor": 0,
  "metadata": {
    "colab": {
      "provenance": [],
      "authorship_tag": "ABX9TyMbMR/vCAi9WPN0TABlkKmu",
      "include_colab_link": true
    },
    "kernelspec": {
      "name": "python3",
      "display_name": "Python 3"
    },
    "language_info": {
      "name": "python"
    }
  },
  "cells": [
    {
      "cell_type": "markdown",
      "metadata": {
        "id": "view-in-github",
        "colab_type": "text"
      },
      "source": [
        "<a href=\"https://colab.research.google.com/github/csr117/BTE-320/blob/main/In_Class_Assignment.ipynb\" target=\"_parent\"><img src=\"https://colab.research.google.com/assets/colab-badge.svg\" alt=\"Open In Colab\"/></a>"
      ]
    },
    {
      "cell_type": "code",
      "execution_count": null,
      "metadata": {
        "colab": {
          "base_uri": "https://localhost:8080/"
        },
        "id": "jtcBNmO3Cmy-",
        "outputId": "c5e965c2-a3d3-4dcd-a42e-c5857fb7794e"
      },
      "outputs": [
        {
          "output_type": "stream",
          "name": "stdout",
          "text": [
            "244.92000000000002\n"
          ]
        }
      ],
      "source": [
        "h = 10\n",
        "pi= 3.14\n",
        "r = 3\n",
        "\n",
        "Area= (2 * pi * (r**2)) + (2 * pi * r * h)\n",
        "\n",
        "print(Area)"
      ]
    },
    {
      "cell_type": "code",
      "source": [
        "import random\n",
        "choice = input(\"Do you want to play a game? Enter Yes or No \")\n",
        "\n",
        "while choice == \"Yes\":\n",
        "  p1 = input(\"Rock, Paper, Scissors? \")\n",
        "  p2 = random.choice(['Rock', 'Paper', 'Scissors'])\n",
        "  print(f'Computer.chose {p2}.')\n",
        "\n",
        "  if p1 == p2:\n",
        "    print(\"Draw\")\n",
        "  elif p1 == \"Rock\" and p2 == \"Scissors\":\n",
        "    print(\"User wins!\")\n",
        "  elif p1 == \"Paper\" and p2 == \"Rock\":\n",
        "    print(\"User wins!\")\n",
        "  elif p1 == \"Scissors\" and p2 == \"Paper\":\n",
        "    print(\"User wins!\")\n",
        "  else:\n",
        "    print(\"Computer wins!\")\n",
        "  choice = input(\"Do you want to play again? \")\n",
        "  print('Ok bye!')\n"
      ],
      "metadata": {
        "id": "kvs7SRFhEacz",
        "colab": {
          "base_uri": "https://localhost:8080/"
        },
        "outputId": "257a4841-65c4-487f-f8b4-ae9db8e793cd"
      },
      "execution_count": 12,
      "outputs": [
        {
          "output_type": "stream",
          "name": "stdout",
          "text": [
            "Do you want to play a game? Enter Yes or No Yes\n",
            "Rock, Paper, Scissors? Rock\n",
            "Computer.chose Paper.\n",
            "Computer wins!\n",
            "Do you want to play again? Rock\n",
            "Ok bye!\n"
          ]
        }
      ]
    },
    {
      "cell_type": "code",
      "source": [
        "n1 = float(input('Enter a number: '))\n",
        "n2 = float(input('Enter a second number: '))\n",
        "symbol = input('Choose operator (+, -, *, /, **): ')\n",
        "\n",
        "if symbol == '+':\n",
        "  print(n1+n2)\n",
        "elif symbol == '-':\n",
        "  Pint(n1-n2)\n",
        "elif symbol == '*':\n",
        "  print(n1*n2)\n",
        "elif symbol == '/':\n",
        "  print(n1/n2)\n",
        "else:2\n",
        "  print(n1**n2)"
      ],
      "metadata": {
        "colab": {
          "base_uri": "https://localhost:8080/"
        },
        "id": "hQUHCOQuXaZj",
        "outputId": "6b4114de-f9d7-4942-b42f-b0dadd29095e"
      },
      "execution_count": null,
      "outputs": [
        {
          "output_type": "stream",
          "name": "stdout",
          "text": [
            "Enter a number: 1\n",
            "Enter a second number: 1\n",
            "Choose operator (+, -, *, /, **): 2\n",
            "1.0\n"
          ]
        }
      ]
    }
  ]
}