{
  "nbformat": 4,
  "nbformat_minor": 0,
  "metadata": {
    "colab": {
      "provenance": [],
      "authorship_tag": "ABX9TyOcQ1U8xGvZKDvp4KpTzl5u",
      "include_colab_link": true
    },
    "kernelspec": {
      "name": "python3",
      "display_name": "Python 3"
    },
    "language_info": {
      "name": "python"
    }
  },
  "cells": [
    {
      "cell_type": "markdown",
      "metadata": {
        "id": "view-in-github",
        "colab_type": "text"
      },
      "source": [
        "<a href=\"https://colab.research.google.com/github/csr117/BTE-320/blob/main/In_Class_Assignment.ipynb\" target=\"_parent\"><img src=\"https://colab.research.google.com/assets/colab-badge.svg\" alt=\"Open In Colab\"/></a>"
      ]
    },
    {
      "cell_type": "code",
      "execution_count": null,
      "metadata": {
        "colab": {
          "base_uri": "https://localhost:8080/"
        },
        "id": "jtcBNmO3Cmy-",
        "outputId": "c5e965c2-a3d3-4dcd-a42e-c5857fb7794e"
      },
      "outputs": [
        {
          "output_type": "stream",
          "name": "stdout",
          "text": [
            "244.92000000000002\n"
          ]
        }
      ],
      "source": [
        "h = 10\n",
        "pi= 3.14\n",
        "r = 3\n",
        "\n",
        "Area= (2 * pi * (r**2)) + (2 * pi * r * h)\n",
        "\n",
        "print(Area)"
      ]
    },
    {
      "cell_type": "code",
      "source": [
        "import random\n",
        "choice = input(\"Do you want to play a game? Enter Yes or No \")\n",
        "\n",
        "while choice == \"Yes\":\n",
        "  p1 = input(\"Rock, Paper, Scissors? \")\n",
        "  p2 = random.choice(['Rock', 'Paper', 'Scissors'])\n",
        "  print(f'Computer.chose {p2}.')\n",
        "\n",
        "  if p1 == p2:\n",
        "    print(\"Draw\")\n",
        "  elif p1 == \"Rock\" and p2 == \"Scissors\":\n",
        "    print(\"User wins!\")\n",
        "  elif p1 == \"Paper\" and p2 == \"Rock\":\n",
        "    print(\"User wins!\")\n",
        "  elif p1 == \"Scissors\" and p2 == \"Paper\":\n",
        "    print(\"User wins!\")\n",
        "  else:\n",
        "    print(\"Computer wins!\")\n",
        "  choice = input(\"Do you want to play again? \")\n",
        "  print('Ok bye!')\n"
      ],
      "metadata": {
        "id": "kvs7SRFhEacz",
        "colab": {
          "base_uri": "https://localhost:8080/"
        },
        "outputId": "257a4841-65c4-487f-f8b4-ae9db8e793cd"
      },
      "execution_count": null,
      "outputs": [
        {
          "output_type": "stream",
          "name": "stdout",
          "text": [
            "Do you want to play a game? Enter Yes or No Yes\n",
            "Rock, Paper, Scissors? Rock\n",
            "Computer.chose Paper.\n",
            "Computer wins!\n",
            "Do you want to play again? Rock\n",
            "Ok bye!\n"
          ]
        }
      ]
    },
    {
      "cell_type": "code",
      "source": [
        "n1 = float(input('Enter a number: '))\n",
        "n2 = float(input('Enter a second number: '))\n",
        "symbol = input('Choose operator (+, -, *, /, **): ')\n",
        "\n",
        "if symbol == '+':\n",
        "  print(n1+n2)\n",
        "elif symbol == '-':\n",
        "  Pint(n1-n2)\n",
        "elif symbol == '*':\n",
        "  print(n1*n2)\n",
        "elif symbol == '/':\n",
        "  print(n1/n2)\n",
        "else:2\n",
        "  print(n1**n2)"
      ],
      "metadata": {
        "colab": {
          "base_uri": "https://localhost:8080/"
        },
        "id": "hQUHCOQuXaZj",
        "outputId": "6b4114de-f9d7-4942-b42f-b0dadd29095e"
      },
      "execution_count": null,
      "outputs": [
        {
          "output_type": "stream",
          "name": "stdout",
          "text": [
            "Enter a number: 1\n",
            "Enter a second number: 1\n",
            "Choose operator (+, -, *, /, **): 2\n",
            "1.0\n"
          ]
        }
      ]
    },
    {
      "cell_type": "code",
      "source": [
        "fRate = 5\n",
        "hRate = 2.5\n",
        "\n",
        "for hrs in range(1, 9, 1): #Despite it being 8 hrs in parking you need to go above the number\n",
        "  charge = fRate + hRate*hrs\n",
        "  if charge<10:\n",
        "    charge=10.0\n",
        "  if charge>20:\n",
        "    charge=20.0\n",
        "  print(hrs, charge)"
      ],
      "metadata": {
        "colab": {
          "base_uri": "https://localhost:8080/"
        },
        "id": "QIRNJ7oGZ6DB",
        "outputId": "10782d28-5557-48d3-a317-a843f4ecf206"
      },
      "execution_count": null,
      "outputs": [
        {
          "output_type": "stream",
          "name": "stdout",
          "text": [
            "1 10.0\n",
            "2 10.0\n",
            "3 12.5\n",
            "4 15.0\n",
            "5 17.5\n",
            "6 20.0\n",
            "7 20.0\n",
            "8 20.0\n"
          ]
        }
      ]
    },
    {
      "cell_type": "code",
      "source": [
        "for ad in range(0,201,25):\n",
        "  additional = 2*round(ad**.5,1)\n",
        "  profit = (20+additional)*10-200-ad\n",
        "  print(ad, profit)"
      ],
      "metadata": {
        "colab": {
          "base_uri": "https://localhost:8080/"
        },
        "id": "5vf1Z81Rkvdx",
        "outputId": "d8680c93-2f7c-473f-ba59-ffe33babcfca"
      },
      "execution_count": null,
      "outputs": [
        {
          "output_type": "stream",
          "name": "stdout",
          "text": [
            "0 0.0\n",
            "25 75.0\n",
            "50 92.0\n",
            "75 99.0\n",
            "100 100.0\n",
            "125 99.0\n",
            "150 94.0\n",
            "175 89.0\n",
            "200 82.0\n"
          ]
        }
      ]
    },
    {
      "cell_type": "code",
      "source": [
        "L = []\n",
        "\n",
        "item = int(input('Give a value: '))\n",
        "\n",
        "while item != 0:\n",
        "  L.append(item)\n",
        "  print(L)\n",
        "  item = int(input('Give another value: '))"
      ],
      "metadata": {
        "colab": {
          "base_uri": "https://localhost:8080/"
        },
        "id": "7faHmjZwmSPT",
        "outputId": "459a056b-3ad9-4e78-9382-efa4c02047cb"
      },
      "execution_count": null,
      "outputs": [
        {
          "name": "stdout",
          "output_type": "stream",
          "text": [
            "Give a value: 1\n",
            "[1]\n",
            "Give another value: 5\n",
            "[1, 5]\n",
            "Give another value: 3\n",
            "[1, 5, 3]\n",
            "Give another value: 0\n"
          ]
        }
      ]
    },
    {
      "cell_type": "code",
      "source": [
        "months = {}\n",
        "\n",
        "names = [\"Jan\", \"Feb\", \"Mar\", \"Apr\", \"May\", \"Jun\", \"Jul\", \"Aug\", \"Sep\", \"Oct\", \"Nov\", \"Dec\"]\n",
        "numbers = [1,2,3,4,5,6,7,8,9,10,11,12]\n",
        "\n",
        "for i in range(len(numbers)):\n",
        "  months[numbers[i]] = names[i]\n",
        "months"
      ],
      "metadata": {
        "colab": {
          "base_uri": "https://localhost:8080/"
        },
        "id": "gAcghJojWHWS",
        "outputId": "facc218d-509f-49d3-be0e-74773cb133c4"
      },
      "execution_count": null,
      "outputs": [
        {
          "output_type": "execute_result",
          "data": {
            "text/plain": [
              "{1: 'Jan',\n",
              " 2: 'Feb',\n",
              " 3: 'Mar',\n",
              " 4: 'Apr',\n",
              " 5: 'May',\n",
              " 6: 'Jun',\n",
              " 7: 'Jul',\n",
              " 8: 'Aug',\n",
              " 9: 'Sep',\n",
              " 10: 'Oct',\n",
              " 11: 'Nov',\n",
              " 12: 'Dec'}"
            ]
          },
          "metadata": {},
          "execution_count": 7
        }
      ]
    },
    {
      "cell_type": "code",
      "source": [
        "months[3]"
      ],
      "metadata": {
        "colab": {
          "base_uri": "https://localhost:8080/",
          "height": 35
        },
        "id": "ifFYTfARbdyf",
        "outputId": "7c6b5c0f-ce65-42cb-f443-90a1be5d904b"
      },
      "execution_count": null,
      "outputs": [
        {
          "output_type": "execute_result",
          "data": {
            "text/plain": [
              "'Mar'"
            ],
            "application/vnd.google.colaboratory.intrinsic+json": {
              "type": "string"
            }
          },
          "metadata": {},
          "execution_count": 11
        }
      ]
    },
    {
      "cell_type": "code",
      "source": [
        "annual_salary = float(input(\"Enter your annual salary: \"))\n",
        "portion_saved = float(input('Enter what percent of your salary is saved (Enter in a decimal): '))\n",
        "total_cost = float(input(\"Enter the cost of the dream home\"))\n",
        "\n",
        "current_saving = 0.0\n",
        "monthly_salary = annual_salary/12\n",
        "down_payment = total_cost*.25\n",
        "months = 0\n",
        "\n",
        "while current_saving < down_payment:\n",
        "  current_saving += current_saving*(.04/12)\n",
        "  current_saving += monthly_salary*portion_saved\n",
        "  months += 1\n",
        "\n",
        "print(f'Number of months: {months}')\n",
        "\n"
      ],
      "metadata": {
        "colab": {
          "base_uri": "https://localhost:8080/"
        },
        "id": "oJ_eH7HYxX2t",
        "outputId": "31f9a9ce-f0b0-4723-b6e0-0d7c7d495e3d"
      },
      "execution_count": null,
      "outputs": [
        {
          "output_type": "stream",
          "name": "stdout",
          "text": [
            "Enter your annual salary: 12.1\n",
            "Enter what percent of your salary is saved (Enter in a decimal): 255.2\n",
            "Enter the cost of the dream home245923.5\n",
            "Number of months: 177\n"
          ]
        }
      ]
    },
    {
      "cell_type": "code",
      "source": [
        "annual_salary = float(input(\"Enter your annual salary: \"))\n",
        "portion_saved = float(input('Enter what percent of your salary is saved (Enter in a decimal): '))\n",
        "total_cost = float(input(\"Enter the cost of the dream home: \"))\n",
        "semi_annual_raise = float(input(\"Enter the semi-annual raise, as a decimal: \"))\n",
        "\n",
        "current_saving = 0.0\n",
        "monthly_salary = annual_salary/12\n",
        "down_payment = total_cost*.25\n",
        "months = 0\n",
        "\n",
        "while current_saving < down_payment:\n",
        "  current_saving += current_saving*(.04/12)\n",
        "  current_saving += monthly_salary*portion_saved\n",
        "  months += 1\n",
        "  if months % 6 == 0:\n",
        "    annual_salary += annual_salary * semi_annual_raise\n",
        "    monthly_salary = annual_salary / 12\n",
        "\n",
        "print(f'Number of months: {months}')"
      ],
      "metadata": {
        "colab": {
          "base_uri": "https://localhost:8080/"
        },
        "id": "OZCw9WJv1y0y",
        "outputId": "85d0b38b-2ba4-41b5-973c-40e043ab6233"
      },
      "execution_count": null,
      "outputs": [
        {
          "output_type": "stream",
          "name": "stdout",
          "text": [
            "Enter your annual salary: 120000\n",
            "Enter what percent of your salary is saved (Enter in a decimal): .05\n",
            "Enter the cost of the dream home: 500000\n",
            "Enter the semi-annual raise, as a decimal: .03\n",
            "Number of months: 142\n"
          ]
        }
      ]
    },
    {
      "cell_type": "code",
      "source": [
        "annual_salary = float(input(\"Enter your annual salary: \"))\n",
        "portion_saved = float(input('Enter what percent of your salary is saved (Enter in a decimal): '))\n",
        "total_cost = float(input(\"Enter the cost of the dream home: \"))\n",
        "semi_annual_raise = float(input(\"Enter the semi-annual raise, as a decimal: \"))\n",
        "\n",
        "current_saving = 0.0\n",
        "monthly_salary = annual_salary/12\n",
        "down_payment = total_cost*.25\n",
        "months = 0\n",
        "\n",
        "while current_saving < down_payment:\n",
        "  current_saving += current_saving*(.04/12)\n",
        "  current_saving += monthly_salary*portion_saved\n",
        "  months += 1\n",
        "  if months % 6 == 0:\n",
        "    annual_salary += annual_salary * semi_annual_raise  # Increase salary\n",
        "    monthly_salary = annual_salary / 12\n",
        "\n",
        "print(f'Number of months: {months}')"
      ],
      "metadata": {
        "id": "ZLr55x9g7wPw"
      },
      "execution_count": null,
      "outputs": []
    },
    {
      "cell_type": "code",
      "source": [
        "number = int(input(\"Enter a number: \"))\n",
        "low_end = 10\n",
        "high_end = 50\n",
        "\n",
        "def range_check(num, low, high):\n",
        "  if low <= num <= high:\n",
        "    print(f\"{num} is within the range.\")\n",
        "  else:\n",
        "    print(f\"{num} is not within the range\")\n",
        "\n",
        "range_check(number, low_end, high_end)\n"
      ],
      "metadata": {
        "colab": {
          "base_uri": "https://localhost:8080/"
        },
        "id": "bvA3P99u_utC",
        "outputId": "bd02c730-f38b-45f3-a8ab-7350ec3fd2d5"
      },
      "execution_count": null,
      "outputs": [
        {
          "output_type": "stream",
          "name": "stdout",
          "text": [
            "Enter a number: 75\n",
            "75 is not within the range\n"
          ]
        }
      ]
    },
    {
      "cell_type": "code",
      "source": [
        "def calcFee(hours):\n",
        "  fee = 5+ hours * 2.5\n",
        "  return fee\n",
        "\n",
        "hours_parked = int(input('Enter hours for parking: '))\n",
        "f = calcFee(hours_parked)\n",
        "print(f)"
      ],
      "metadata": {
        "colab": {
          "base_uri": "https://localhost:8080/"
        },
        "id": "6_V177AmhIqs",
        "outputId": "ed02c5e2-4362-4565-e201-00fe73f66575"
      },
      "execution_count": null,
      "outputs": [
        {
          "output_type": "stream",
          "name": "stdout",
          "text": [
            "Enter hours for parking: 4\n",
            "15.0\n"
          ]
        }
      ]
    },
    {
      "cell_type": "code",
      "source": [
        "def calcFee(hours):\n",
        "    fee = 5 + hours * 2.5\n",
        "    return round(fee, 2)\n",
        "\n",
        "def displayFee(fee):\n",
        "    print(fee)\n",
        "\n",
        "hours_parked = int(input('Enter hours for parking: '))\n",
        "f = calcFee(hours_parked)\n",
        "displayFee(f)\n"
      ],
      "metadata": {
        "id": "1LkUUantlic-",
        "outputId": "774cf12e-c2f2-4595-807d-63a6b439b9cc",
        "colab": {
          "base_uri": "https://localhost:8080/"
        }
      },
      "execution_count": null,
      "outputs": [
        {
          "output_type": "stream",
          "name": "stdout",
          "text": [
            "Enter hours for parking: 4\n",
            "15.0\n"
          ]
        }
      ]
    },
    {
      "cell_type": "code",
      "source": [
        "def rev(h):\n",
        "  if len(h) == 1:\n",
        "    return h\n",
        "  else:\n",
        "    return h[-1]+rev(h[1:-1])+h[0]\n",
        "\n",
        "h = input('Enter a Word: ')\n",
        "reverse = rev(h)\n",
        "print(reverse)"
      ],
      "metadata": {
        "colab": {
          "base_uri": "https://localhost:8080/"
        },
        "id": "L7UT-yEqkpXk",
        "outputId": "659bca7a-ed12-409c-841e-057283d05647"
      },
      "execution_count": 8,
      "outputs": [
        {
          "output_type": "stream",
          "name": "stdout",
          "text": [
            "Enter a Word: pnnje3opjwqldndwq\n",
            "qwdndlqwjpo3ejnnp\n"
          ]
        }
      ]
    }
  ]
}