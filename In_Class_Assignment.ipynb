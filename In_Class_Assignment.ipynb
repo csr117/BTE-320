{
  "nbformat": 4,
  "nbformat_minor": 0,
  "metadata": {
    "colab": {
      "provenance": [],
      "authorship_tag": "ABX9TyMbzRywKhoUMvr4Ftekk5NJ",
      "include_colab_link": true
    },
    "kernelspec": {
      "name": "python3",
      "display_name": "Python 3"
    },
    "language_info": {
      "name": "python"
    }
  },
  "cells": [
    {
      "cell_type": "markdown",
      "metadata": {
        "id": "view-in-github",
        "colab_type": "text"
      },
      "source": [
        "<a href=\"https://colab.research.google.com/github/csr117/BTE-320/blob/main/In_Class_Assignment.ipynb\" target=\"_parent\"><img src=\"https://colab.research.google.com/assets/colab-badge.svg\" alt=\"Open In Colab\"/></a>"
      ]
    },
    {
      "cell_type": "code",
      "execution_count": null,
      "metadata": {
        "colab": {
          "base_uri": "https://localhost:8080/"
        },
        "id": "jtcBNmO3Cmy-",
        "outputId": "c5e965c2-a3d3-4dcd-a42e-c5857fb7794e"
      },
      "outputs": [
        {
          "output_type": "stream",
          "name": "stdout",
          "text": [
            "244.92000000000002\n"
          ]
        }
      ],
      "source": [
        "h = 10\n",
        "pi= 3.14\n",
        "r = 3\n",
        "\n",
        "Area= (2 * pi * (r**2)) + (2 * pi * r * h)\n",
        "\n",
        "print(Area)"
      ]
    },
    {
      "cell_type": "code",
      "source": [
        "p1 = input(\"Rock, Paper, Scissors? \")\n",
        "p2 = input(\"Rock, Paper, Scissors? \")\n",
        "\n",
        "if p1 == p2:\n",
        "  print(\"Draw\")\n",
        "elif p1 == \"Rock\" and p2 == \"Scissors\":\n",
        "  print(\"Player 1 wins!\")\n",
        "elif p1 == \"Paper\" and p2 == \"Rock\":\n",
        "  print(\"Player 1 wins!\")\n",
        "elif p1 == \"Scissors\" and p2 == \"Paper\":\n",
        "  print(\"Player 1 wins!\")\n",
        "else:\n",
        "  print(\"Player 2 wins!\")"
      ],
      "metadata": {
        "id": "kvs7SRFhEacz",
        "colab": {
          "base_uri": "https://localhost:8080/"
        },
        "outputId": "1fa66629-4379-4a7f-f3d4-e8175d4272c4"
      },
      "execution_count": null,
      "outputs": [
        {
          "output_type": "stream",
          "name": "stdout",
          "text": [
            "Rock, Paper, Scissors? Scissors\n",
            "Rock, Paper, Scissors? Rock\n",
            "Player 2 wins!\n"
          ]
        }
      ]
    },
    {
      "cell_type": "code",
      "source": [
        "n1 = float(input('Enter a number: '))\n",
        "n2 = float(input('Enter a second number: '))\n",
        "symbol = input('Choose operator (+, -, *, /, **): ')\n",
        "\n",
        "if symbol == '+':\n",
        "  print(n1+n2)\n",
        "elif symbol == '-':\n",
        "  Pint(n1-n2)\n",
        "elif symbol == '*':\n",
        "  print(n1*n2)\n",
        "elif symbol == '/':\n",
        "  print(n1/n2)\n",
        "else:\n",
        "  print(n1**n2)"
      ],
      "metadata": {
        "id": "hQUHCOQuXaZj"
      },
      "execution_count": null,
      "outputs": []
    }
  ]
}