{
  "nbformat": 4,
  "nbformat_minor": 0,
  "metadata": {
    "colab": {
      "provenance": [],
      "include_colab_link": true
    },
    "kernelspec": {
      "name": "python3",
      "display_name": "Python 3"
    },
    "language_info": {
      "name": "python"
    }
  },
  "cells": [
    {
      "cell_type": "markdown",
      "metadata": {
        "id": "view-in-github",
        "colab_type": "text"
      },
      "source": [
        "<a href=\"https://colab.research.google.com/github/csr117/BTE-Projects/blob/main/Problem-Solving.ipynb\" target=\"_parent\"><img src=\"https://colab.research.google.com/assets/colab-badge.svg\" alt=\"Open In Colab\"/></a>"
      ]
    },
    {
      "cell_type": "markdown",
      "source": [
        "# BTE420 - Assignments\n",
        "\n",
        "**Handed out:** 02/15/2023\n",
        "\n",
        "**Deadline:** 03/19/2023, 11:59PM EST\n",
        "\n",
        "*Points:* 20\n",
        "\n",
        "This notebook has five (5) assignments based on the material covered on the first half of the semester (until Spring Break).\n",
        "\n",
        "You can give your answers here, code cells below each question are provided; you can add as many as you need.\n",
        "\n",
        "**Submission guide:** When you are done, submit your file following the steps below:\n",
        "- Hit `Ctrl + P` (if on Windows) or `command + P` (if on Mac) to open the *Print* window.\n",
        "- On the dropdown list, choose `Save as PDF`.\n",
        "- Upload your PDF file on Blackboard.\n",
        "\n",
        "**<span style=\"font-size:100px;\">NO OTHER FILE FORMATS WILL BE ACCEPTED!</span>**\n",
        "\n",
        "All questions have examples of inputs and/or outputs you should get if your program is correct."
      ],
      "metadata": {
        "id": "oweMd_QTV_jz"
      }
    },
    {
      "cell_type": "code",
      "source": [
        "from google.colab import drive\n",
        "drive.mount('/content/drive')"
      ],
      "metadata": {
        "id": "eEpX9WOrG4I5",
        "collapsed": true,
        "colab": {
          "base_uri": "https://localhost:8080/",
          "height": 304
        },
        "outputId": "1bfb3b89-35c7-42c6-a20e-da16e0fc0c39"
      },
      "execution_count": null,
      "outputs": [
        {
          "output_type": "error",
          "ename": "MessageError",
          "evalue": "Error: credential propagation was unsuccessful",
          "traceback": [
            "\u001b[0;31m---------------------------------------------------------------------------\u001b[0m",
            "\u001b[0;31mMessageError\u001b[0m                              Traceback (most recent call last)",
            "\u001b[0;32m<ipython-input-15-d5df0069828e>\u001b[0m in \u001b[0;36m<cell line: 0>\u001b[0;34m()\u001b[0m\n\u001b[1;32m      1\u001b[0m \u001b[0;32mfrom\u001b[0m \u001b[0mgoogle\u001b[0m\u001b[0;34m.\u001b[0m\u001b[0mcolab\u001b[0m \u001b[0;32mimport\u001b[0m \u001b[0mdrive\u001b[0m\u001b[0;34m\u001b[0m\u001b[0;34m\u001b[0m\u001b[0m\n\u001b[0;32m----> 2\u001b[0;31m \u001b[0mdrive\u001b[0m\u001b[0;34m.\u001b[0m\u001b[0mmount\u001b[0m\u001b[0;34m(\u001b[0m\u001b[0;34m'/content/drive'\u001b[0m\u001b[0;34m)\u001b[0m\u001b[0;34m\u001b[0m\u001b[0;34m\u001b[0m\u001b[0m\n\u001b[0m",
            "\u001b[0;32m/usr/local/lib/python3.11/dist-packages/google/colab/drive.py\u001b[0m in \u001b[0;36mmount\u001b[0;34m(mountpoint, force_remount, timeout_ms, readonly)\u001b[0m\n\u001b[1;32m     98\u001b[0m \u001b[0;32mdef\u001b[0m \u001b[0mmount\u001b[0m\u001b[0;34m(\u001b[0m\u001b[0mmountpoint\u001b[0m\u001b[0;34m,\u001b[0m \u001b[0mforce_remount\u001b[0m\u001b[0;34m=\u001b[0m\u001b[0;32mFalse\u001b[0m\u001b[0;34m,\u001b[0m \u001b[0mtimeout_ms\u001b[0m\u001b[0;34m=\u001b[0m\u001b[0;36m120000\u001b[0m\u001b[0;34m,\u001b[0m \u001b[0mreadonly\u001b[0m\u001b[0;34m=\u001b[0m\u001b[0;32mFalse\u001b[0m\u001b[0;34m)\u001b[0m\u001b[0;34m:\u001b[0m\u001b[0;34m\u001b[0m\u001b[0;34m\u001b[0m\u001b[0m\n\u001b[1;32m     99\u001b[0m   \u001b[0;34m\"\"\"Mount your Google Drive at the specified mountpoint path.\"\"\"\u001b[0m\u001b[0;34m\u001b[0m\u001b[0;34m\u001b[0m\u001b[0m\n\u001b[0;32m--> 100\u001b[0;31m   return _mount(\n\u001b[0m\u001b[1;32m    101\u001b[0m       \u001b[0mmountpoint\u001b[0m\u001b[0;34m,\u001b[0m\u001b[0;34m\u001b[0m\u001b[0;34m\u001b[0m\u001b[0m\n\u001b[1;32m    102\u001b[0m       \u001b[0mforce_remount\u001b[0m\u001b[0;34m=\u001b[0m\u001b[0mforce_remount\u001b[0m\u001b[0;34m,\u001b[0m\u001b[0;34m\u001b[0m\u001b[0;34m\u001b[0m\u001b[0m\n",
            "\u001b[0;32m/usr/local/lib/python3.11/dist-packages/google/colab/drive.py\u001b[0m in \u001b[0;36m_mount\u001b[0;34m(mountpoint, force_remount, timeout_ms, ephemeral, readonly)\u001b[0m\n\u001b[1;32m    135\u001b[0m   )\n\u001b[1;32m    136\u001b[0m   \u001b[0;32mif\u001b[0m \u001b[0mephemeral\u001b[0m\u001b[0;34m:\u001b[0m\u001b[0;34m\u001b[0m\u001b[0;34m\u001b[0m\u001b[0m\n\u001b[0;32m--> 137\u001b[0;31m     _message.blocking_request(\n\u001b[0m\u001b[1;32m    138\u001b[0m         \u001b[0;34m'request_auth'\u001b[0m\u001b[0;34m,\u001b[0m\u001b[0;34m\u001b[0m\u001b[0;34m\u001b[0m\u001b[0m\n\u001b[1;32m    139\u001b[0m         \u001b[0mrequest\u001b[0m\u001b[0;34m=\u001b[0m\u001b[0;34m{\u001b[0m\u001b[0;34m'authType'\u001b[0m\u001b[0;34m:\u001b[0m \u001b[0;34m'dfs_ephemeral'\u001b[0m\u001b[0;34m}\u001b[0m\u001b[0;34m,\u001b[0m\u001b[0;34m\u001b[0m\u001b[0;34m\u001b[0m\u001b[0m\n",
            "\u001b[0;32m/usr/local/lib/python3.11/dist-packages/google/colab/_message.py\u001b[0m in \u001b[0;36mblocking_request\u001b[0;34m(request_type, request, timeout_sec, parent)\u001b[0m\n\u001b[1;32m    174\u001b[0m       \u001b[0mrequest_type\u001b[0m\u001b[0;34m,\u001b[0m \u001b[0mrequest\u001b[0m\u001b[0;34m,\u001b[0m \u001b[0mparent\u001b[0m\u001b[0;34m=\u001b[0m\u001b[0mparent\u001b[0m\u001b[0;34m,\u001b[0m \u001b[0mexpect_reply\u001b[0m\u001b[0;34m=\u001b[0m\u001b[0;32mTrue\u001b[0m\u001b[0;34m\u001b[0m\u001b[0;34m\u001b[0m\u001b[0m\n\u001b[1;32m    175\u001b[0m   )\n\u001b[0;32m--> 176\u001b[0;31m   \u001b[0;32mreturn\u001b[0m \u001b[0mread_reply_from_input\u001b[0m\u001b[0;34m(\u001b[0m\u001b[0mrequest_id\u001b[0m\u001b[0;34m,\u001b[0m \u001b[0mtimeout_sec\u001b[0m\u001b[0;34m)\u001b[0m\u001b[0;34m\u001b[0m\u001b[0;34m\u001b[0m\u001b[0m\n\u001b[0m",
            "\u001b[0;32m/usr/local/lib/python3.11/dist-packages/google/colab/_message.py\u001b[0m in \u001b[0;36mread_reply_from_input\u001b[0;34m(message_id, timeout_sec)\u001b[0m\n\u001b[1;32m    101\u001b[0m     ):\n\u001b[1;32m    102\u001b[0m       \u001b[0;32mif\u001b[0m \u001b[0;34m'error'\u001b[0m \u001b[0;32min\u001b[0m \u001b[0mreply\u001b[0m\u001b[0;34m:\u001b[0m\u001b[0;34m\u001b[0m\u001b[0;34m\u001b[0m\u001b[0m\n\u001b[0;32m--> 103\u001b[0;31m         \u001b[0;32mraise\u001b[0m \u001b[0mMessageError\u001b[0m\u001b[0;34m(\u001b[0m\u001b[0mreply\u001b[0m\u001b[0;34m[\u001b[0m\u001b[0;34m'error'\u001b[0m\u001b[0;34m]\u001b[0m\u001b[0;34m)\u001b[0m\u001b[0;34m\u001b[0m\u001b[0;34m\u001b[0m\u001b[0m\n\u001b[0m\u001b[1;32m    104\u001b[0m       \u001b[0;32mreturn\u001b[0m \u001b[0mreply\u001b[0m\u001b[0;34m.\u001b[0m\u001b[0mget\u001b[0m\u001b[0;34m(\u001b[0m\u001b[0;34m'data'\u001b[0m\u001b[0;34m,\u001b[0m \u001b[0;32mNone\u001b[0m\u001b[0;34m)\u001b[0m\u001b[0;34m\u001b[0m\u001b[0;34m\u001b[0m\u001b[0m\n\u001b[1;32m    105\u001b[0m \u001b[0;34m\u001b[0m\u001b[0m\n",
            "\u001b[0;31mMessageError\u001b[0m: Error: credential propagation was unsuccessful"
          ]
        }
      ]
    },
    {
      "cell_type": "markdown",
      "source": [
        "## Assignment 1 - Vehicle Routing (7 points)\n",
        "\n",
        "An intercampus shuttle can take one of several routs. For each run, a dispatcher checks what the current traffic conditions are to find out the average speed on each route and determine which route the shuttle driver should take.\n",
        "* Write a program that, in a *while* loop:\n",
        "  - prompts for two inputs: distance (miles) and speed (miles/hour)\n",
        "  - calculates the time the route should take (minutes) and displays the result\n",
        "  - keeps track of which alternative route is the fastest and displays this after all routes are entered\n",
        "\n",
        "  Here is an example session:\n",
        "\n",
        "  ```\n",
        "  Enter route 1 distance (miles): 30\n",
        "  Enter route 1 speed (miles/h): 60\n",
        "  More routes (y/n)?: y\n",
        "\n",
        "  Enter route 2 distance (miles): 25\n",
        "  Enter route 2 speed (miles/h): 55\n",
        "  More routes (y/n)?: n\n",
        "\n",
        "  Route 2 is fastest: 27 minutes\n",
        "  ```\n",
        "\n",
        "* Assume current traffic conditions are as follows. Run your program using the data below to determine the fastest route.\n",
        "\n",
        "|Route Type|Distance (miles)|Current speed (miles/hour)|\n",
        "|----|----|----|\n",
        "|local|30|30|\n",
        "|parkway|35|40|\n",
        "|highway|48|55|\n",
        "\n",
        "* Enhance your program to detect invalid inputs of 0 or negative values for distance or speed.\n"
      ],
      "metadata": {
        "id": "8Y-VqSofYibT"
      }
    },
    {
      "cell_type": "code",
      "execution_count": null,
      "metadata": {
        "id": "VmdYkJzqVxVS",
        "colab": {
          "base_uri": "https://localhost:8080/"
        },
        "outputId": "924cb2ab-b0ef-4e11-f726-f0ba9d258faa"
      },
      "outputs": [
        {
          "output_type": "stream",
          "name": "stdout",
          "text": [
            "Enter distance (miles): 45\n",
            "Enter speed (mph): 100\n",
            "More routes (y/n)?: y\n",
            "Enter distance (miles): 45\n",
            "Enter speed (mph): 55\n",
            "More routes (y/n)?: n\n",
            "\n",
            "Route 1 is fastest: 27 minutes\n"
          ]
        }
      ],
      "source": [
        "import numpy as np\n",
        "\n",
        "times = []\n",
        "route_number = 1\n",
        "\n",
        "while True:\n",
        "  try:\n",
        "    distance = float(input('Enter distance (miles): '))\n",
        "    speed = float(input('Enter speed (mph): '))\n",
        "  except ValueError:\n",
        "    print('Invalid input. Try again.')\n",
        "    continue\n",
        "\n",
        "  if distance <= 0 or speed <= 0:\n",
        "    print('Invalid input. Try again.')\n",
        "    continue\n",
        "\n",
        "  time =(distance / speed) * 60 #multiply by 60 to make time in minutes\n",
        "  times.append(round(time))\n",
        "\n",
        "  more = input('More routes (y/n)?: ')\n",
        "  if more != 'y':\n",
        "    break\n",
        "  route_number += 1\n",
        "\n",
        "np_times = np.array(times)\n",
        "fastest_index = np.argmin(np_times)\n",
        "fastest_time = round(np_times[fastest_index])\n",
        "\n",
        "print(f\"\\nRoute {fastest_index + 1} is fastest: {fastest_time} minutes\")"
      ]
    },
    {
      "cell_type": "markdown",
      "source": [
        "## Assignment 2 - Patient File and BMI (6 points)\n",
        "\n",
        "File `patients.txt` contains patient ID, height (inches), and weight (pounds).\n",
        "\n",
        "* Write a program that reads each line of the file, calculates the BMI for each patient, and displays each patient's ID and their BMI to the screen. The equation for BMI is:\n",
        "$$BMI = \\frac{weight}{height^2}\\times 703$$\n",
        "* Enhance your program so that the patient ID and BMI are saved to a file called `bmi.txt`.\n",
        "* Enhance your program so that if the height or weight data in the file are not numeric, the program will display an error message to the screen including the patient's ID."
      ],
      "metadata": {
        "id": "jh1P8eH9aagl"
      }
    },
    {
      "cell_type": "code",
      "source": [
        "bmi_f = open('bmi.txt', 'w')\n",
        "print('ID', 'BMI', file = bmi_f)\n",
        "with open('patients.txt', 'r') as f:\n",
        "  line = f.readline()\n",
        "  for line in f:\n",
        "    line = line.strip('\\n')\n",
        "    data = line.split(',')\n",
        "    bmi = (int(data[2]) / int(data[1]) ** 2) * 703\n",
        "    print(f'Patient ID: {data[0]} BMI: {round(bmi,2)}', file=bmi_f)\n",
        "bmi_f.close()"
      ],
      "metadata": {
        "id": "j1qBFtkbM82K",
        "collapsed": true
      },
      "execution_count": null,
      "outputs": []
    },
    {
      "cell_type": "markdown",
      "source": [
        "## Assignment 3 - Dollar Store (4 points)\n",
        "\n",
        "A store sells all items for $1. Customers buing 10 or more items receive a 5% discount. Additionally, there is 7.5% sales tax.\n",
        "\n",
        "Write a program that prompts the user for the number of items purchased, and calculates the total cost before and after tax. Here is an example session:\n",
        "  ```\n",
        "  Enter number of items: 10\n",
        "  Net cost: 9.50\n",
        "  Tax: 0.71\n",
        "  After tax: 10.21\n",
        "  ```\n",
        "As part of your program, define and use the following functions:\n",
        "\n",
        "|function|description|input arguments|Returned result|\n",
        "|---|----|---|---|\n",
        "|`calcCost(count)`|Calculate pre-tax cost|Count: integer for the number of items purchased|Pretax total cost fo items purchased, <br />accounting for discount if any|\n",
        "|`displayLine(label,amount)`|Display one line of the output,<br /> formatted to a given width <br />and number of decimal places|Label: the label for displayed line<br />Amount: the mount for displayed line|None (function displays on screen)|\n",
        "|`display(cost, tax)`|Display net cost, tax, and after-tax <br />amounts using calls to `displayLine()` function|Cost: the pre-tax cost, calculated by `calcCost()<br />Tax: the tax|None (function displays on screen)|"
      ],
      "metadata": {
        "id": "zeL6URKkczIu"
      }
    },
    {
      "cell_type": "code",
      "source": [
        "def main():\n",
        "  count = int(input('Enter number of items:'))\n",
        "  cost = calcCost(count)\n",
        "  tax = cost * .075\n",
        "  display(cost, tax)\n",
        "\n",
        "def calcCost(count):\n",
        "  cost = count * 1\n",
        "  if count >= 10:\n",
        "    cost = cost * .95\n",
        "  else:\n",
        "    cost = count\n",
        "  return cost\n",
        "\n",
        "def display(cost, tax):\n",
        "  print('Net cost:', round(cost,2))\n",
        "  print('Tax:', round(tax,2))\n",
        "  print('After tax:', round(cost + tax,2))\n",
        "\n",
        "main()\n"
      ],
      "metadata": {
        "id": "CyB8nzlMd0M3",
        "colab": {
          "base_uri": "https://localhost:8080/"
        },
        "outputId": "7a02efa2-c1dc-415f-fcb6-444655349cc3"
      },
      "execution_count": null,
      "outputs": [
        {
          "output_type": "stream",
          "name": "stdout",
          "text": [
            "Enter number of items:10\n",
            "Net cost: 9.5\n",
            "Tax: 0.71\n",
            "After tax: 10.21\n"
          ]
        }
      ]
    },
    {
      "cell_type": "markdown",
      "source": [
        "## Assignment 4 - Mode of List (3 points)\n",
        "\n",
        "Write a program that prompts the user for a list of numbers and determines the mode of the list. The mode is the value (or values) that occur the most often. For example, the mode of `[1,2,3,2]` is `2`; the mode of `[1,2,3,2,3]` is `[2,3]`.\n",
        "\n",
        "To solve this problem, use lists and a dictionary.\n",
        "\n",
        "Here are some suggested functions you could define as part of the solution to this problem:\n",
        "\n",
        "```python\n",
        "# build a dictionary of values and their counts\n",
        "def findCounts(alist)\n",
        "\n",
        "# find the largest value of key/value pairs in a dictionary\n",
        "def findMaxCount(adict)\n",
        "\n",
        "# find the keys having a given value\n",
        "def findValuesWithCount(adict, count)\n",
        "```"
      ],
      "metadata": {
        "id": "EkwNmJLkfI7V"
      }
    },
    {
      "cell_type": "code",
      "source": [
        "def createList(n):\n",
        "  L = []\n",
        "  for i in range(n):\n",
        "    i = int(input('Enter number:'))\n",
        "    L.append(i)\n",
        "  return L\n",
        "\n",
        "\n",
        "def findCounts(alist):\n",
        "  d = {}\n",
        "\n",
        "  for num in alist:\n",
        "    if num in d:\n",
        "      d[num] += 1\n",
        "    else:\n",
        "      d[num] = 1\n",
        "  return d\n",
        "\n",
        "\n",
        "def findMaxCount(adict):\n",
        "  maximum = max(adict.values())\n",
        "  mode = []\n",
        "\n",
        "  for key, value in adict.items():\n",
        "    if adict[key] == maximum:\n",
        "      mode.append(key)\n",
        "  print(mode[0] if len(mode) == 1 else mode)\n",
        "\n",
        "\n",
        "if __name__ == \"__main__\":\n",
        "  n = int(input('Enter number of items:'))\n",
        "  alist = createList(n)\n",
        "  d = findCounts(alist)\n",
        "  findMaxCount(d)"
      ],
      "metadata": {
        "id": "4f5eDiW4gb_W",
        "colab": {
          "base_uri": "https://localhost:8080/"
        },
        "outputId": "d6838a40-2b5e-4bb7-b3d8-9294c3273ac5"
      },
      "execution_count": null,
      "outputs": [
        {
          "output_type": "stream",
          "name": "stdout",
          "text": [
            "Enter number of items:5\n",
            "Enter number:2\n",
            "Enter number:2\n",
            "Enter number:2\n",
            "Enter number:3\n",
            "Enter number:3\n",
            "2\n"
          ]
        }
      ]
    }
  ]
}