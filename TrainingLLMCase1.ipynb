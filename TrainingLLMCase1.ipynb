{
  "nbformat": 4,
  "nbformat_minor": 0,
  "metadata": {
    "colab": {
      "provenance": [],
      "include_colab_link": true
    },
    "kernelspec": {
      "name": "python3",
      "display_name": "Python 3"
    },
    "language_info": {
      "name": "python"
    }
  },
  "cells": [
    {
      "cell_type": "markdown",
      "metadata": {
        "id": "view-in-github",
        "colab_type": "text"
      },
      "source": [
        "<a href=\"https://colab.research.google.com/github/csr117/BTE-320/blob/main/TrainingLLMCase1.ipynb\" target=\"_parent\"><img src=\"https://colab.research.google.com/assets/colab-badge.svg\" alt=\"Open In Colab\"/></a>"
      ]
    },
    {
      "cell_type": "code",
      "execution_count": null,
      "metadata": {
        "colab": {
          "base_uri": "https://localhost:8080/"
        },
        "id": "YTq0URNTzMZH",
        "outputId": "56c966fb-49d3-48dd-e8dd-242804a4f9a7"
      },
      "outputs": [
        {
          "output_type": "stream",
          "name": "stdout",
          "text": [
            "Filtered data saved to Case1.txt\n"
          ]
        }
      ],
      "source": [
        "import json\n",
        "\n",
        "def filter_json_to_txt():\n",
        "    input_json_file = 'Case1.json'\n",
        "    output_txt_file = 'Case1.txt'\n",
        "\n",
        "    with open(input_json_file, 'r') as infile:\n",
        "        data = json.load(infile)\n",
        "\n",
        "    keys_to_keep = ['casebody', 'opinions', 'text']\n",
        "    filtered_text = \"\"\n",
        "\n",
        "    for key in keys_to_keep:\n",
        "        if key in data:\n",
        "            filtered_text += f\"{key.capitalize()}:\\n{data[key]}\\n\\n\"\n",
        "\n",
        "    with open(output_txt_file, 'w') as outfile:\n",
        "        outfile.write(filtered_text)\n",
        "\n",
        "    print(f\"Filtered data saved to {output_txt_file}\")\n",
        "\n",
        "filter_json_to_txt()"
      ]
    },
    {
      "cell_type": "code",
      "source": [
        "import re\n",
        "!pip install tiktoken\n",
        "import tiktoken\n",
        "\n",
        "tokenizer = tiktoken.get_encoding(\"gpt2\")\n",
        "\n",
        "\n",
        "with open(\"Case1.txt\", \"r\") as f:\n",
        "  raw_text = f.read()\n",
        "  raw_text = raw_text.replace(u'\\xa0', u' ').replace('\\n', ' ').replace('\\\\n', ' ')\n",
        "  raw_text = ' '.join(raw_text.split())\n",
        "  cleaned_text = re.sub(r'[^a-zA-Z\\s]', '', raw_text.lower())\n",
        "  formatted_text = cleaned_text.replace('. ', '.\\n\\n')\n",
        "  split_text = re.split(r'([,.]|\\s)', formatted_text)\n",
        "  split_text = [item for item in split_text if item.strip()]\n",
        "\n",
        "enc_text = tokenizer.encode(formatted_text, allowed_special={\"<|endoftext|>\"})\n",
        "print(len(enc_text))\n",
        "print(max(enc_text))"
      ],
      "metadata": {
        "colab": {
          "base_uri": "https://localhost:8080/"
        },
        "id": "H91-3dMm2RMH",
        "outputId": "aff196f4-0d3a-44d7-b0c0-89578ac09f24"
      },
      "execution_count": null,
      "outputs": [
        {
          "output_type": "stream",
          "name": "stdout",
          "text": [
            "Collecting tiktoken\n",
            "  Downloading tiktoken-0.9.0-cp311-cp311-manylinux_2_17_x86_64.manylinux2014_x86_64.whl.metadata (6.7 kB)\n",
            "Requirement already satisfied: regex>=2022.1.18 in /usr/local/lib/python3.11/dist-packages (from tiktoken) (2024.11.6)\n",
            "Requirement already satisfied: requests>=2.26.0 in /usr/local/lib/python3.11/dist-packages (from tiktoken) (2.32.3)\n",
            "Requirement already satisfied: charset-normalizer<4,>=2 in /usr/local/lib/python3.11/dist-packages (from requests>=2.26.0->tiktoken) (3.4.1)\n",
            "Requirement already satisfied: idna<4,>=2.5 in /usr/local/lib/python3.11/dist-packages (from requests>=2.26.0->tiktoken) (3.10)\n",
            "Requirement already satisfied: urllib3<3,>=1.21.1 in /usr/local/lib/python3.11/dist-packages (from requests>=2.26.0->tiktoken) (2.4.0)\n",
            "Requirement already satisfied: certifi>=2017.4.17 in /usr/local/lib/python3.11/dist-packages (from requests>=2.26.0->tiktoken) (2025.4.26)\n",
            "Downloading tiktoken-0.9.0-cp311-cp311-manylinux_2_17_x86_64.manylinux2014_x86_64.whl (1.2 MB)\n",
            "\u001b[2K   \u001b[90m━━━━━━━━━━━━━━━━━━━━━━━━━━━━━━━━━━━━━━━━\u001b[0m \u001b[32m1.2/1.2 MB\u001b[0m \u001b[31m14.6 MB/s\u001b[0m eta \u001b[36m0:00:00\u001b[0m\n",
            "\u001b[?25hInstalling collected packages: tiktoken\n",
            "Successfully installed tiktoken-0.9.0\n",
            "4075\n",
            "48287\n"
          ]
        }
      ]
    },
    {
      "cell_type": "markdown",
      "source": [
        "In the next cell\n"
      ],
      "metadata": {
        "id": "ez70ssqH3j7B"
      }
    },
    {
      "cell_type": "code",
      "source": [
        "import torch\n",
        "from torch.utils.data import Dataset, DataLoader\n",
        "\n",
        "class GPTDatasetV1(Dataset):\n",
        "  def __init__(self, txt, tokenizer, max_length, stride):\n",
        "    self.input_ids = []\n",
        "    self.target_ids = []\n",
        "    token_ids = tokenizer.encode(txt)\n",
        "    for i in range(0, len(token_ids) - max_length, stride):\n",
        "      input_chunk = token_ids[i:i + max_length]\n",
        "      target_chunk = token_ids[i + 1: i + max_length + 1]\n",
        "      self.input_ids.append(torch.tensor(input_chunk))\n",
        "      self.target_ids.append(torch.tensor(target_chunk))\n",
        "\n",
        "  def __len__(self):\n",
        "    return len(self.input_ids)\n",
        "\n",
        "  def __getitem__(self, idx):\n",
        "    return self.input_ids[idx], self.target_ids[idx]\n",
        "\n",
        "def create_dataloader_v1(txt, batch_size=4, max_length=256, stride=128, shuffle=True, drop_last=True,num_workers=0):\n",
        "  tokenizer = tiktoken.get_encoding(\"gpt2\")\n",
        "  dataset = GPTDatasetV1(txt, tokenizer, max_length, stride)\n",
        "  dataloader = DataLoader(\n",
        "    dataset,\n",
        "    batch_size=batch_size,\n",
        "    shuffle=shuffle,\n",
        "    drop_last=drop_last,\n",
        "    num_workers=num_workers\n",
        "  )\n",
        "  return dataloader"
      ],
      "metadata": {
        "id": "FoQZBtdL2mLa"
      },
      "execution_count": null,
      "outputs": []
    },
    {
      "cell_type": "code",
      "source": [
        "vocab_size = 47636\n",
        "output_dim = 256\n",
        "token_embedding_layer = torch.nn.Embedding(vocab_size, output_dim)\n",
        "\n",
        "\n",
        "max_length = 128\n",
        "dataloader = create_dataloader_v1(\n",
        "  formatted_text, batch_size=16, max_length=max_length,\n",
        "  stride=max_length, shuffle=False\n",
        ")\n",
        "data_iter = iter(dataloader)\n",
        "inputs, targets = next(data_iter)\n",
        "token_embeddings = token_embedding_layer(inputs)\n",
        "context_length = max_length\n",
        "pos_embedding_layer = torch.nn.Embedding(context_length, output_dim)\n",
        "pos_embeddings = pos_embedding_layer(torch.arange(context_length))\n",
        "input_embeddings = token_embeddings + pos_embeddings\n",
        "\n",
        "\n",
        "print(\"Token IDs:\\n\", inputs)\n",
        "print(\"\\nInputs shape:\\n\", inputs.shape)\n",
        "print(\"\\nToken embeddings shape:\\n\",token_embeddings.shape)\n",
        "print(\"\\nPos embeddings shape:\\n\",pos_embeddings.shape)\n",
        "print(\"\\nInput embeddings shape:\\n\", input_embeddings.shape)"
      ],
      "metadata": {
        "colab": {
          "base_uri": "https://localhost:8080/"
        },
        "id": "aimT7C9r250I",
        "outputId": "5a9eacac-4816-40bf-a132-99f36464a8c9"
      },
      "execution_count": null,
      "outputs": [
        {
          "output_type": "stream",
          "name": "stdout",
          "text": [
            "Token IDs:\n",
            " tensor([[ 7442,  2618, 10266,  ...,   262,  1176,   550],\n",
            "        [  587,   379,   439,  ...,   262,  1295,   286],\n",
            "        [  290, 31601,   329,  ...,   285,   658,   287],\n",
            "        ...,\n",
            "        [ 1230,   287,   781,  ...,  8681,  6325,   220],\n",
            "        [  743,   220,   262,  ...,   262, 16503,  2585],\n",
            "        [  286,   262,  5640,  ...,   286,   262, 16503]])\n",
            "\n",
            "Inputs shape:\n",
            " torch.Size([16, 128])\n",
            "\n",
            "Token embeddings shape:\n",
            " torch.Size([16, 128, 256])\n",
            "\n",
            "Pos embeddings shape:\n",
            " torch.Size([128, 256])\n",
            "\n",
            "Input embeddings shape:\n",
            " torch.Size([16, 128, 256])\n"
          ]
        }
      ]
    },
    {
      "cell_type": "code",
      "source": [
        "import torch.nn as nn\n",
        "\n",
        "class MultiHeadAttention(nn.Module):\n",
        "    def __init__(self, d_in, d_out, context_length, dropout, num_heads, qkv_bias=False):\n",
        "        super().__init__()\n",
        "        assert (d_out % num_heads == 0), \\\n",
        "            \"d_out must be divisible by num_heads\"\n",
        "        self.d_in = d_in\n",
        "        self.d_out = d_out\n",
        "        self.num_heads = num_heads\n",
        "        self.head_dim = d_out // num_heads # Reduce the projection dim to match desired output dim\n",
        "\n",
        "        self.W_query = nn.Linear(d_in, d_out, bias=qkv_bias)\n",
        "        self.W_key = nn.Linear(d_in, d_out, bias=qkv_bias)\n",
        "        self.W_value = nn.Linear(d_in, d_out, bias=qkv_bias)\n",
        "        self.out_proj = nn.Linear(d_out, d_out)  # Linear layer to combine head outputs\n",
        "        self.dropout = nn.Dropout(dropout)\n",
        "        self.register_buffer(\n",
        "            \"mask\",\n",
        "            torch.triu(torch.ones(context_length, context_length),\n",
        "                       diagonal=1)\n",
        "        )\n",
        "\n",
        "    def forward(self, x):\n",
        "        b, num_tokens, d_in = x.shape\n",
        "        keys = self.W_key(x) # Shape: (b, num_tokens, d_out)\n",
        "        queries = self.W_query(x)\n",
        "        values = self.W_value(x)\n",
        "\n",
        "        keys = keys.view(b, num_tokens, self.num_heads, self.head_dim)\n",
        "        values = values.view(b, num_tokens, self.num_heads, self.head_dim)\n",
        "        queries = queries.view(b, num_tokens, self.num_heads, self.head_dim)\n",
        "\n",
        "        keys = keys.transpose(1, 2)\n",
        "        queries = queries.transpose(1, 2)\n",
        "        values = values.transpose(1, 2)\n",
        "\n",
        "        attn_scores = queries @ keys.transpose(2, 3)\n",
        "\n",
        "        mask_bool = self.mask.bool()[:num_tokens, :num_tokens]\n",
        "\n",
        "        attn_scores.masked_fill_(mask_bool, -torch.inf)\n",
        "\n",
        "        attn_weights = torch.softmax(attn_scores / keys.shape[-1]**0.5, dim=-1)\n",
        "        attn_weights = self.dropout(attn_weights)\n",
        "\n",
        "        context_vec = (attn_weights @ values).transpose(1, 2)\n",
        "\n",
        "        context_vec = context_vec.contiguous().view(b, num_tokens, self.d_out)\n",
        "        context_vec = self.out_proj(context_vec)\n",
        "\n",
        "        return context_vec\n",
        "\n",
        "\n",
        "d_in = 256 # the input embedding size, d=32\n",
        "d_out = 128\n",
        "context_length = token_embeddings.shape[1]\n",
        "mha = MultiHeadAttention(d_in, d_out, context_length, 0.01,16)\n",
        "context_vecs = mha(token_embeddings)\n",
        "print(context_vecs)\n",
        "print(\"context_vecs.shape:\", context_vecs.shape)"
      ],
      "metadata": {
        "id": "YO1jlCpM3S-U",
        "colab": {
          "base_uri": "https://localhost:8080/"
        },
        "outputId": "851e25f1-f563-4c25-e5a4-970af95162bc"
      },
      "execution_count": null,
      "outputs": [
        {
          "output_type": "stream",
          "name": "stdout",
          "text": [
            "tensor([[[-0.0596,  0.1777,  0.4631,  ..., -0.1256,  0.4974,  0.2660],\n",
            "         [ 0.3156,  0.0715,  0.2052,  ..., -0.2403,  0.4659,  0.0227],\n",
            "         [ 0.3292, -0.0441,  0.1039,  ..., -0.1359,  0.3005,  0.0284],\n",
            "         ...,\n",
            "         [-0.1569,  0.0323,  0.0059,  ..., -0.2372,  0.1098, -0.0150],\n",
            "         [-0.1659,  0.0246, -0.0187,  ..., -0.2000,  0.1230, -0.0272],\n",
            "         [-0.1078,  0.0542,  0.0254,  ..., -0.2135,  0.1111,  0.0272]],\n",
            "\n",
            "        [[-1.0860, -0.3419,  0.5217,  ...,  0.2091,  0.0314,  0.3828],\n",
            "         [-0.5360, -0.2666,  0.2725,  ...,  0.0144, -0.0168,  0.3490],\n",
            "         [-0.2655, -0.2393,  0.2975,  ..., -0.0174, -0.0233,  0.3433],\n",
            "         ...,\n",
            "         [-0.1389,  0.0134,  0.0074,  ..., -0.1654,  0.0993,  0.0753],\n",
            "         [-0.1295,  0.0164, -0.0255,  ..., -0.1719,  0.1054,  0.0420],\n",
            "         [-0.1788,  0.0077,  0.0028,  ..., -0.1221,  0.0867,  0.0323]],\n",
            "\n",
            "        [[ 0.1519, -0.0557,  0.2625,  ..., -0.2893,  0.6925, -0.2271],\n",
            "         [ 0.0701, -0.0693,  0.3205,  ..., -0.1252,  0.4743,  0.0452],\n",
            "         [ 0.1835, -0.1762,  0.1239,  ..., -0.2288,  0.0947,  0.0014],\n",
            "         ...,\n",
            "         [-0.1361, -0.0284,  0.0214,  ..., -0.1193,  0.1346,  0.0621],\n",
            "         [-0.1644, -0.0387,  0.0048,  ..., -0.1706,  0.0935,  0.0229],\n",
            "         [-0.1284, -0.0484,  0.0285,  ..., -0.1314,  0.1017,  0.0676]],\n",
            "\n",
            "        ...,\n",
            "\n",
            "        [[-0.1017,  0.1630,  0.4307,  ...,  0.1931, -0.4810,  0.5249],\n",
            "         [ 0.0334,  0.0916,  0.3607,  ..., -0.0281,  0.0333,  0.2786],\n",
            "         [ 0.0377, -0.1144,  0.3314,  ..., -0.1664,  0.1448,  0.0263],\n",
            "         ...,\n",
            "         [-0.0292, -0.0250,  0.0137,  ..., -0.2228,  0.1490,  0.0329],\n",
            "         [-0.0272, -0.0231,  0.0205,  ..., -0.2536,  0.1648,  0.0468],\n",
            "         [-0.0500, -0.0146, -0.0057,  ..., -0.1797,  0.1068,  0.0321]],\n",
            "\n",
            "        [[ 0.0248, -0.1912, -0.4261,  ..., -0.5812,  0.1240, -0.7304],\n",
            "         [-0.3526,  0.1021, -0.3275,  ..., -0.5065, -0.1286, -0.4472],\n",
            "         [-0.2581, -0.0290, -0.1622,  ..., -0.4257, -0.0058, -0.1794],\n",
            "         ...,\n",
            "         [-0.0609,  0.0072,  0.0036,  ..., -0.1650,  0.1658,  0.0057],\n",
            "         [-0.0203, -0.0076, -0.0366,  ..., -0.1394,  0.1303, -0.0168],\n",
            "         [-0.0643,  0.0022, -0.0328,  ..., -0.2000,  0.1629, -0.0054]],\n",
            "\n",
            "        [[-0.2637, -0.3213,  0.3463,  ...,  0.0621,  0.1099,  0.1278],\n",
            "         [-0.3808, -0.2102,  0.1107,  ..., -0.1209,  0.1230,  0.1795],\n",
            "         [-0.3137, -0.1704,  0.2403,  ..., -0.1836,  0.1130, -0.0215],\n",
            "         ...,\n",
            "         [-0.1605, -0.0203,  0.0674,  ..., -0.1433,  0.1687,  0.0582],\n",
            "         [-0.1248, -0.0246,  0.0466,  ..., -0.1464,  0.1706,  0.0818],\n",
            "         [-0.1026, -0.0156,  0.0567,  ..., -0.1168,  0.1411,  0.0589]]],\n",
            "       grad_fn=<ViewBackward0>)\n",
            "context_vecs.shape: torch.Size([16, 128, 128])\n"
          ]
        }
      ]
    },
    {
      "cell_type": "code",
      "source": [
        "GPT_CONFIG_124M = {\n",
        "  \"vocab_size\": 47636,\n",
        "  \"context_length\": 256,\n",
        "  \"emb_dim\": 256,\n",
        "  \"n_heads\": 16,\n",
        "  \"n_layers\": 12,\n",
        "  \"drop_rate\": 0.01,\n",
        "  \"qkv_bias\": False\n",
        "}\n"
      ],
      "metadata": {
        "id": "Ph-6U2lP3N-W"
      },
      "execution_count": null,
      "outputs": []
    },
    {
      "cell_type": "code",
      "source": [
        "class LayerNorm(nn.Module):\n",
        "  def __init__(self, emb_dim):\n",
        "    super().__init__()\n",
        "    self.eps = 1e-5\n",
        "    self.scale = nn.Parameter(torch.ones(emb_dim))\n",
        "    self.shift = nn.Parameter(torch.zeros(emb_dim))\n",
        "\n",
        "  def forward(self, x):\n",
        "    mean = x.mean(dim=-1, keepdim=True)\n",
        "    var = x.var(dim=-1, keepdim=True, unbiased=False)\n",
        "    norm_x = (x - mean) / torch.sqrt(var + self.eps)\n",
        "    return self.scale * norm_x + self.shift\n"
      ],
      "metadata": {
        "id": "dYjWolcn66He"
      },
      "execution_count": null,
      "outputs": []
    },
    {
      "cell_type": "code",
      "source": [
        "class FeedForward(nn.Module):\n",
        "  def __init__(self, cfg):\n",
        "    super().__init__()\n",
        "    self.layers = nn.Sequential(\n",
        "        nn.Linear(cfg[\"emb_dim\"], 4 * cfg[\"emb_dim\"]),\n",
        "        GELU(),\n",
        "        nn.Linear(4 * cfg[\"emb_dim\"], cfg[\"emb_dim\"]),\n",
        "    )\n",
        "\n",
        "  def forward(self, x):\n",
        "    return self.layers(x)\n"
      ],
      "metadata": {
        "id": "-g3g3j5a8hPO"
      },
      "execution_count": null,
      "outputs": []
    },
    {
      "cell_type": "code",
      "source": [
        "class GELU(nn.Module):\n",
        "  def __init__(self):\n",
        "    super().__init__()\n",
        "\n",
        "  def forward(self, x):\n",
        "    return 0.5 * x * (1 + torch.tanh(\n",
        "        torch.sqrt(torch.tensor(2.0 / torch.pi)) *\n",
        "        (x + 0.044715 * torch.pow(x, 3))\n",
        "    ))\n"
      ],
      "metadata": {
        "id": "kezffhnP8mCo"
      },
      "execution_count": null,
      "outputs": []
    },
    {
      "cell_type": "code",
      "source": [
        "class TransformerBlock(nn.Module):\n",
        "  def __init__(self, cfg):\n",
        "    super().__init__()\n",
        "    self.att = MultiHeadAttention(\n",
        "        d_in=cfg[\"emb_dim\"],\n",
        "        d_out=cfg[\"emb_dim\"],\n",
        "        context_length=cfg[\"context_length\"],\n",
        "        num_heads=cfg[\"n_heads\"],\n",
        "        dropout=cfg[\"drop_rate\"],\n",
        "        qkv_bias=cfg[\"qkv_bias\"])\n",
        "    self.ff = FeedForward(cfg)\n",
        "    self.norm1 = LayerNorm(cfg[\"emb_dim\"])\n",
        "    self.norm2 = LayerNorm(cfg[\"emb_dim\"])\n",
        "    self.drop_shortcut = nn.Dropout(cfg[\"drop_rate\"])\n",
        "\n",
        "  def forward(self, x):\n",
        "    # Shortcut connection for attention block\n",
        "    shortcut = x\n",
        "    x = self.norm1(x)\n",
        "    x = self.att(x)  # Shape [batch_size, num_tokens, emb_size]\n",
        "    x = self.drop_shortcut(x)\n",
        "    x = x + shortcut  # Add the original input back\n",
        "\n",
        "    # Shortcut connection for feed forward block\n",
        "    shortcut = x\n",
        "    x = self.norm2(x)\n",
        "    x = self.ff(x)\n",
        "    x = self.drop_shortcut(x)\n",
        "    x = x + shortcut  # Add the original input back\n",
        "\n",
        "    return x"
      ],
      "metadata": {
        "id": "5l6Cyj7x8E7M"
      },
      "execution_count": null,
      "outputs": []
    },
    {
      "cell_type": "code",
      "source": [
        "class GPTModel(nn.Module):\n",
        "  def __init__(self, cfg):\n",
        "    super().__init__()\n",
        "    self.tok_emb = nn.Embedding(cfg[\"vocab_size\"], cfg[\"emb_dim\"])\n",
        "    self.pos_emb = nn.Embedding(cfg[\"context_length\"], cfg[\"emb_dim\"])\n",
        "    self.drop_emb = nn.Dropout(cfg[\"drop_rate\"])\n",
        "\n",
        "    self.trf_blocks = nn.Sequential(\n",
        "        *[TransformerBlock(cfg) for _ in range(cfg[\"n_layers\"])])\n",
        "\n",
        "    self.final_norm = LayerNorm(cfg[\"emb_dim\"])\n",
        "    self.out_head = nn.Linear(\n",
        "        cfg[\"emb_dim\"], cfg[\"vocab_size\"], bias=False\n",
        "    )\n",
        "\n",
        "  def forward(self, in_idx):\n",
        "    batch_size, seq_len = in_idx.shape\n",
        "    tok_embeds = self.tok_emb(in_idx)\n",
        "    pos_embeds = self.pos_emb(torch.arange(seq_len, device=in_idx.device))\n",
        "    x = tok_embeds + pos_embeds\n",
        "    x = self.drop_emb(x)\n",
        "    x = self.trf_blocks(x)\n",
        "    x = self.final_norm(x)\n",
        "    logits = self.out_head(x)\n",
        "    return logits\n",
        "\n",
        "model = GPTModel(GPT_CONFIG_124M)\n",
        "total_params = sum(p.numel() for p in model.parameters())\n",
        "print(f\"Total number of parameters: {total_params:,}\")"
      ],
      "metadata": {
        "colab": {
          "base_uri": "https://localhost:8080/"
        },
        "id": "M8c93VeV8PcU",
        "outputId": "5bba0e15-daf0-4ecf-b248-2a3d793678b0"
      },
      "execution_count": null,
      "outputs": [
        {
          "output_type": "stream",
          "name": "stdout",
          "text": [
            "Total number of parameters: 33,923,584\n"
          ]
        }
      ]
    },
    {
      "cell_type": "code",
      "source": [
        "total_size_bytes = total_params * 4\n",
        "total_size_mb = total_size_bytes / (1024 * 1024)\n",
        "\n",
        "print(f\"Total size of the model: {total_size_mb:.2f} MB\")\n"
      ],
      "metadata": {
        "colab": {
          "base_uri": "https://localhost:8080/"
        },
        "id": "KlSYXDWy9wJX",
        "outputId": "ee897ec3-2097-4343-d51d-3b2604a58081"
      },
      "execution_count": null,
      "outputs": [
        {
          "output_type": "stream",
          "name": "stdout",
          "text": [
            "Total size of the model: 129.41 MB\n"
          ]
        }
      ]
    }
  ]
}